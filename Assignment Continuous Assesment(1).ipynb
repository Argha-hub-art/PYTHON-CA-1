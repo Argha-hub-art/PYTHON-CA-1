{
 "cells": [
  {
   "cell_type": "code",
   "execution_count": 2,
   "id": "1fa1134c-327f-4cda-8396-f2eacb541b45",
   "metadata": {},
   "outputs": [
    {
     "name": "stdin",
     "output_type": "stream",
     "text": [
      "enter the first number : 8.5\n",
      "enter the seccond number : 2.5\n",
      "enter the third number : 3.5\n"
     ]
    },
    {
     "name": "stdout",
     "output_type": "stream",
     "text": [
      "the sum is :14.5 and the avg is :4.833333333333333\n"
     ]
    }
   ],
   "source": [
    "#1> Write a program in Python to find the addition & average of three float numbers?\n",
    "SOURCE CODE:-\n",
    "a=(float(input(\"enter the first number :\")))\n",
    "b=(float(input(\"enter the seccond number :\")))\n",
    "c=(float(input(\"enter the third number :\")))\n",
    "sum=(a+b+c)\n",
    "avg=sum/3\n",
    "print(f\"the sum is :{sum} and the avg is :{avg}\")"
   ]
  },
  {
   "cell_type": "code",
   "execution_count": 5,
   "id": "523ff210-dc98-497e-a2d3-038191fd7282",
   "metadata": {},
   "outputs": [
    {
     "name": "stdin",
     "output_type": "stream",
     "text": [
      "enter the radius: 6\n"
     ]
    },
    {
     "name": "stdout",
     "output_type": "stream",
     "text": [
      "the volume of the sphere is : 904.7786842338603\n"
     ]
    }
   ],
   "source": [
    "#2>  Write a program in Python to find the volume of a sphere with radius  6cm?\n",
    "SOURCE CODE:-\n",
    "import math\n",
    "radius=int(input(\"enter the radius:\"))\n",
    "print(\"the volume of the sphere is :\",(4/3)*math.pi*pow(radius,3))\n"
   ]
  },
  {
   "cell_type": "code",
   "execution_count": 6,
   "id": "6eef3d51-d9a7-4a24-9bc9-98d53a10dc4c",
   "metadata": {},
   "outputs": [
    {
     "name": "stdin",
     "output_type": "stream",
     "text": [
      "enter the radius: 6\n"
     ]
    },
    {
     "name": "stdout",
     "output_type": "stream",
     "text": [
      "the area of the circle is : 113.09733552923255\n"
     ]
    }
   ],
   "source": [
    " #3> Write a program in Python to find the area of a circle?\n",
    "SOURCE CODE:-\n",
    "import math\n",
    "radius=int(input(\"enter the radius:\"))\n",
    "print(\"the area of the circle is :\",math.pi*pow(radius,2))\n"
   ]
  },
  {
   "cell_type": "code",
   "execution_count": 7,
   "id": "8a293aad-92a0-4d1e-a67f-c98ba3a8f842",
   "metadata": {},
   "outputs": [
    {
     "name": "stdin",
     "output_type": "stream",
     "text": [
      "enter the principle rate : 600\n",
      "enter the time : 5\n",
      "enter the  rate : 3.5\n"
     ]
    },
    {
     "name": "stdout",
     "output_type": "stream",
     "text": [
      "the simple interrest is : 105.0\n"
     ]
    }
   ],
   "source": [
    "#4> Write a program in Python to compute simple Interest?\n",
    "SOURCE CODE:-\n",
    "principle=int(input(\"enter the principle rate :\"))\n",
    "time=int(input(\"enter the time :\"))\n",
    "rate=float(input(\"enter the  rate :\"))\n",
    "si=(principle*time*rate)/100\n",
    "print(\"the simple interrest is :\",si)"
   ]
  },
  {
   "cell_type": "code",
   "execution_count": 8,
   "id": "725db367-3dd1-4724-ae5e-959b6a0ea40f",
   "metadata": {},
   "outputs": [
    {
     "name": "stdin",
     "output_type": "stream",
     "text": [
      "enter the first number : 5\n",
      "enter the seccond number : 10\n"
     ]
    },
    {
     "name": "stdout",
     "output_type": "stream",
     "text": [
      "a:10 b:5\n"
     ]
    }
   ],
   "source": [
    "#5>  Write a program in Python to swap two numbers without using third variable?\n",
    "SOURCE CODE:-\n",
    "a=(int(input(\"enter the first number :\")))\n",
    "b=(int(input(\"enter the seccond number :\")))\n",
    "a=a+b\n",
    "b=a-b\n",
    "a=a-b\n",
    "print(f\"a:{a} b:{b}\")"
   ]
  },
  {
   "cell_type": "code",
   "execution_count": 9,
   "id": "3a7225a4-e39f-4e89-86d7-c89ddedb4cf3",
   "metadata": {},
   "outputs": [
    {
     "name": "stdin",
     "output_type": "stream",
     "text": [
      "enter the celcius: 50\n"
     ]
    },
    {
     "name": "stdout",
     "output_type": "stream",
     "text": [
      "the ferhenhite temp is: 122.0\n"
     ]
    }
   ],
   "source": [
    "#6> Write a program in Python to convert any temperature from Celcius to Fahrenheit?\n",
    "SOURCE CODE:-\n",
    "celcius=int(input(\"enter the celcius:\"))\n",
    "farhenhite=celcius*(9/5)+32\n",
    "print(\"the ferhenhite temp is:\",farhenhite)"
   ]
  },
  {
   "cell_type": "code",
   "execution_count": 11,
   "id": "17776453-5de8-4cdc-afc2-653e1df098cc",
   "metadata": {},
   "outputs": [
    {
     "name": "stdin",
     "output_type": "stream",
     "text": [
      "enter the no. of days: 25\n"
     ]
    },
    {
     "name": "stdout",
     "output_type": "stream",
     "text": [
      "the year: 0 month:0 week:3 days:4\n"
     ]
    }
   ],
   "source": [
    "#7> Write a program in Python to convert a given number of days into days, month, year and week?\n",
    "SOURCE CODE:-\n",
    "no_days=int(input(\"enter the no. of days:\"))\n",
    "year=int(no_days/365)\n",
    "month=int((no_days-year*365)/30)\n",
    "week=int((no_days%365)/7)\n",
    "days=int((no_days%365)%7)\n",
    "print(f\"the year: {year} month:{month} week:{week} days:{days}\")"
   ]
  },
  {
   "cell_type": "code",
   "execution_count": 12,
   "id": "a129adea-3697-49a9-b6b6-22c8d8366d2d",
   "metadata": {},
   "outputs": [
    {
     "name": "stdin",
     "output_type": "stream",
     "text": [
      "Enter the first mass:  56\n",
      "Enter the second mass:  62\n",
      "Enter the distance between the centres of the masses:  5600\n"
     ]
    },
    {
     "name": "stdout",
     "output_type": "stream",
     "text": [
      "Hence, the gravitational force is:  7.387964285714285e-15 N\n"
     ]
    }
   ],
   "source": [
    "#8>  Write a Python Program to find the gravitational force acting between two objects.days?\n",
    "#[G=N*(m1*m2)/d^2]\n",
    "SOURCE CODE:-\n",
    "\n",
    "m1=float(input(\"Enter the first mass: \"))\n",
    "m2=float(input(\"Enter the second mass: \"))\n",
    "r=float(input(\"Enter the distance between the centres of the masses: \"))\n",
    "G=6.673*(10**-11)\n",
    "f=(G*m1*m2)/(r**2)\n",
    "print(\"Hence, the gravitational force is: \",f,\"N\")\n"
   ]
  },
  {
   "cell_type": "code",
   "execution_count": 64,
   "id": "d2035e8a-765e-43d9-9dfb-ed71a50c3060",
   "metadata": {},
   "outputs": [
    {
     "name": "stdin",
     "output_type": "stream",
     "text": [
      "Enter a number:  2\n"
     ]
    },
    {
     "name": "stdout",
     "output_type": "stream",
     "text": [
      "The number 2 is Even.\n"
     ]
    }
   ],
   "source": [
    "#9> Write a program in Python to find given no is Even or Odd?\n",
    "SOURCE CODE:-\n",
    "def check_even_or_odd(number):\n",
    "   \n",
    "    if number % 2 == 0:\n",
    "        return \"Even\"\n",
    "    else:\n",
    "        return \"Odd\"\n",
    "\n",
    "def main():\n",
    "    \n",
    "    try:\n",
    "        num = int(input(\"Enter a number: \"))\n",
    "    except ValueError:\n",
    "        print(\"Please enter a valid integer.\")\n",
    "        return\n",
    "    \n",
    "    \n",
    "    result = check_even_or_odd(num)\n",
    "    \n",
    "    \n",
    "    print(f\"The number {num} is {result}.\")\n",
    "\n",
    "\n",
    "if __name__ == \"__main__\":\n",
    "    main()\n"
   ]
  },
  {
   "cell_type": "code",
   "execution_count": 18,
   "id": "9909cbc0-7940-4189-aca5-99ecb070c507",
   "metadata": {},
   "outputs": [
    {
     "name": "stdin",
     "output_type": "stream",
     "text": [
      "Enter an integer:  16\n"
     ]
    },
    {
     "name": "stdout",
     "output_type": "stream",
     "text": [
      "Result: 2\n"
     ]
    }
   ],
   "source": [
    "#10> Take input from user if it is greater than 15 print two times of difference\n",
    "if it’s less than 15 print four times of difference?\n",
    "\n",
    "SOURCE CODE:-\n",
    "def process_input(user_input):\n",
    "    threshold = 15\n",
    "    difference = user_input - threshold\n",
    "    if user_input > threshold:\n",
    "        result = 2 * difference\n",
    "    else:\n",
    "        result = 4 * difference\n",
    "    \n",
    "    return result\n",
    "\n",
    "def main():\n",
    "    try:\n",
    "        user_input = int(input(\"Enter an integer: \"))\n",
    "        result = process_input(user_input)\n",
    "        print(f\"Result: {result}\")\n",
    "    \n",
    "    except ValueError:\n",
    "        print(\"Invalid input. Please enter an integer.\")\n",
    "\n",
    "if __name__ == \"__main__\":\n",
    "    main()"
   ]
  },
  {
   "cell_type": "code",
   "execution_count": 19,
   "id": "6478769c-bd26-4014-8468-bffaed648e75",
   "metadata": {},
   "outputs": [
    {
     "name": "stdin",
     "output_type": "stream",
     "text": [
      "enter the first number : 5\n",
      "enter the seccond number : 8\n",
      "enter the third number : 6\n"
     ]
    },
    {
     "name": "stdout",
     "output_type": "stream",
     "text": [
      "the largest number is: 8\n"
     ]
    }
   ],
   "source": [
    "#11> Write a program in Python to find largest among three numbers?\n",
    "SOURCE CODE:-\n",
    "a=(int(input(\"enter the first number :\")))\n",
    "b=(int(input(\"enter the seccond number :\")))\n",
    "c=(int(input(\"enter the third number :\")))\n",
    "print(\"the largest number is:\",max(a,b,c))"
   ]
  },
  {
   "cell_type": "code",
   "execution_count": 20,
   "id": "6cee23d6-6a9c-4c2a-b36c-8539d92119b2",
   "metadata": {},
   "outputs": [
    {
     "name": "stdin",
     "output_type": "stream",
     "text": [
      "enter the first number : 5\n",
      "enter the seccond number : 5\n",
      "enter the third number : 5\n"
     ]
    },
    {
     "name": "stdout",
     "output_type": "stream",
     "text": [
      "Equilateral Triangle\n"
     ]
    }
   ],
   "source": [
    "#12> Write a program in Python to check a triangle is equilateral,scalene or isosclees?\n",
    "SOURCE CODE:-\n",
    "x=(int(input(\"enter the first number :\")))\n",
    "y=(int(input(\"enter the seccond number :\")))\n",
    "z=(int(input(\"enter the third number :\")))\n",
    "\n",
    "\n",
    "if x == y == z:\n",
    "        print(\"Equilateral Triangle\")\n",
    " \n",
    "elif x == y or y == z or z == x:\n",
    "        print(\"Isosceles Triangle\")\n",
    "else:\n",
    "        print(\"Scalene Triangle\")"
   ]
  },
  {
   "cell_type": "code",
   "execution_count": 21,
   "id": "f0ab8b60-e53e-418b-9cfa-1db516a2e79b",
   "metadata": {},
   "outputs": [
    {
     "name": "stdin",
     "output_type": "stream",
     "text": [
      "enter the year: 2024\n"
     ]
    },
    {
     "name": "stdout",
     "output_type": "stream",
     "text": [
      "2024 is a leap year.\n"
     ]
    }
   ],
   "source": [
    "#13> Write a program in Python to check a given year is leapyear or not?\n",
    "SOURCE CODE:-\n",
    "year=int(input(\"enter the year:\"))\n",
    "if year % 4 == 0:\n",
    "    if year % 100 == 0:\n",
    "        if year % 400 == 0:\n",
    "            print(f\"{year} is a leap year.\")\n",
    "        else:\n",
    "            print(f\"{year} is not a leap year.\")\n",
    "    else:\n",
    "        print(f\"{year} is a leap year.\")\n",
    "else:\n",
    "    print(f\"{year} is not a leap year.\")"
   ]
  },
  {
   "cell_type": "code",
   "execution_count": 65,
   "id": "cf26e763-4870-4de0-89c4-78c0fde4f472",
   "metadata": {},
   "outputs": [
    {
     "name": "stdin",
     "output_type": "stream",
     "text": [
      "Enter marks for subject 1:  56\n",
      "Enter marks for subject 2:  23\n",
      "Enter marks for subject 3:  89\n",
      "Enter marks for subject 4:  68\n"
     ]
    },
    {
     "name": "stdout",
     "output_type": "stream",
     "text": [
      "Average marks: 59.00\n",
      "Grade: C\n"
     ]
    }
   ],
   "source": [
    "#14> \tTake marks of a student of four different subject \n",
    "find average depending on average find Grade\n",
    "(if marks >=75 i.e,’A’ or >=60 but <=75 i.e,’B’ or >=40 but <=60 i.e,’C’ or <=40 i.e,’D’)?\n",
    "SOURCE CODE:-\n",
    "def calculate_grade(average):\n",
    "    if average >= 75:\n",
    "        return 'A'\n",
    "    elif 60 <= average < 75:\n",
    "        return 'B'\n",
    "    elif 40 <= average < 60:\n",
    "        return 'C'\n",
    "    else:\n",
    "        return 'D'\n",
    "\n",
    "def main():\n",
    "    try:\n",
    "        \n",
    "        subject1 = float(input(\"Enter marks for subject 1: \"))\n",
    "        subject2 = float(input(\"Enter marks for subject 2: \"))\n",
    "        subject3 = float(input(\"Enter marks for subject 3: \"))\n",
    "        subject4 = float(input(\"Enter marks for subject 4: \"))\n",
    "\n",
    "        \n",
    "        total_marks = subject1 + subject2 + subject3 + subject4\n",
    "        average_marks = total_marks / 4\n",
    "\n",
    "        \n",
    "        grade = calculate_grade(average_marks)\n",
    "\n",
    "        print(f\"Average marks: {average_marks:.2f}\")\n",
    "        print(f\"Grade: {grade}\")\n",
    "    except ValueError:\n",
    "        print(\"Invalid input. Please enter valid numeric marks.\")\n",
    "\n",
    "if __name__ == \"__main__\":\n",
    "    main()\n"
   ]
  },
  {
   "cell_type": "code",
   "execution_count": 29,
   "id": "1e10800e-48c9-444c-82f6-def69477b041",
   "metadata": {},
   "outputs": [
    {
     "name": "stdin",
     "output_type": "stream",
     "text": [
      "enter the first  numeber: 8\n",
      "enter the second number: 9\n",
      "enter the operation: *\n"
     ]
    },
    {
     "name": "stdout",
     "output_type": "stream",
     "text": [
      "mul: 72\n"
     ]
    }
   ],
   "source": [
    "#15> Write a program in Python to implement a simple calculator?\n",
    "SOURCE CODE:-\n",
    "num1=int(input(\"enter the first  numeber:\"))\n",
    "num2=int(input(\"enter the second number:\"))\n",
    "c=input(\"enter the operation:\")\n",
    "if c == \"+\":\n",
    "    print(\"add :\",(num1+num2))\n",
    "elif c==\"-\" :\n",
    "    print(\"sub:\",(num1-num2))\n",
    "elif c==\"*\":\n",
    "    print(\"mul:\",(num1*num2))\n",
    "elif c==\"/\":\n",
    "    print(\"div:\",(num1/num2))        \n",
    "   "
   ]
  },
  {
   "cell_type": "code",
   "execution_count": 30,
   "id": "925abf3a-98d6-482a-b443-efd76a56f1ae",
   "metadata": {},
   "outputs": [
    {
     "name": "stdout",
     "output_type": "stream",
     "text": [
      "Equation: ax^2 + bx + c \n"
     ]
    },
    {
     "name": "stdin",
     "output_type": "stream",
     "text": [
      "Enter a:  5\n",
      "Enter b:  6\n",
      "Enter c:  3\n"
     ]
    },
    {
     "name": "stdout",
     "output_type": "stream",
     "text": [
      "The roots are imaginary. \n"
     ]
    }
   ],
   "source": [
    "#16> Write a program in Python to find the roots of Quadratic equation?\n",
    "SOURCE CODE:-\n",
    "\n",
    "print(\"Equation: ax^2 + bx + c \")\n",
    "a=int(input(\"Enter a: \"))\n",
    "b=int(input(\"Enter b: \"))\n",
    "c=int(input(\"Enter c: \"))\n",
    "d=b**2-4*a*c\n",
    "d1=d**0.5\n",
    "if(d<0):\n",
    "    print(\"The roots are imaginary. \")\n",
    "else:\n",
    "    r1=(-b+d1)/2*a\n",
    "    r2=(-b-d1)/2*a\n",
    "    print(\"The first root: \",round(r1,2))\n",
    "    print(\"The second root: \",round(r2,2))"
   ]
  },
  {
   "cell_type": "code",
   "execution_count": 31,
   "id": "e60c3a8f-9d48-4af8-b57d-96657205dc0f",
   "metadata": {},
   "outputs": [
    {
     "name": "stdin",
     "output_type": "stream",
     "text": [
      "enter the number to print: 3\n"
     ]
    },
    {
     "name": "stdout",
     "output_type": "stream",
     "text": [
      "1\n",
      "2\n",
      "3\n"
     ]
    }
   ],
   "source": [
    "#17> Write a program in Python to print 1 to n?\n",
    "SOURCE CODE:-\n",
    "n=int(input(\"enter the number to print:\"))\n",
    "for i in range(1,n+1):\n",
    "    print(i)"
   ]
  },
  {
   "cell_type": "code",
   "execution_count": 32,
   "id": "644f771d-a340-4528-8682-775ba4d7ae6b",
   "metadata": {},
   "outputs": [
    {
     "name": "stdin",
     "output_type": "stream",
     "text": [
      "enter the number to print: 6\n"
     ]
    },
    {
     "name": "stdout",
     "output_type": "stream",
     "text": [
      "36\n"
     ]
    }
   ],
   "source": [
    "#18> Write a program in Python to print sum of natural number?\n",
    "SOURCE CODE:-\n",
    "n=int(input(\"enter the number to print:\"))\n",
    "sum=0\n",
    "for i in range(1,n+1):\n",
    "    sum=sum+n\n",
    "print(sum)   "
   ]
  },
  {
   "cell_type": "code",
   "execution_count": 33,
   "id": "58debaf6-e938-44bf-ad10-d3311ebbf7e3",
   "metadata": {},
   "outputs": [
    {
     "name": "stdin",
     "output_type": "stream",
     "text": [
      "enter the number to print: 5\n"
     ]
    },
    {
     "name": "stdout",
     "output_type": "stream",
     "text": [
      "5\n"
     ]
    }
   ],
   "source": [
    "#19> Write a program in Python to print Sum of Digit?\n",
    "SOURCE CODE:-\n",
    "num=input(\"enter the number to print:\")\n",
    "sum=0\n",
    "for i in num:\n",
    "    sum=sum+int(i)\n",
    "print(sum)    "
   ]
  },
  {
   "cell_type": "code",
   "execution_count": 34,
   "id": "81308b01-c7c6-4894-8bed-1cd0d5d6fb89",
   "metadata": {},
   "outputs": [
    {
     "name": "stdin",
     "output_type": "stream",
     "text": [
      "enter the number to print: 8\n"
     ]
    },
    {
     "name": "stdout",
     "output_type": "stream",
     "text": [
      "1\n",
      "2\n",
      "4\n",
      "8\n"
     ]
    }
   ],
   "source": [
    "#20> Write a program in Python to print Factors of a Number?\n",
    "SOURCE CODE:-\n",
    "x=int(input(\"enter the number to print:\"))\n",
    "for i in range(1, x + 1):\n",
    "       if x % i == 0:\n",
    "           print(i)"
   ]
  },
  {
   "cell_type": "code",
   "execution_count": 36,
   "id": "bd3cec1e-babf-41ed-9bf0-0e5fc126e3b6",
   "metadata": {},
   "outputs": [
    {
     "name": "stdin",
     "output_type": "stream",
     "text": [
      "enter the number to print: 4569\n"
     ]
    },
    {
     "name": "stdout",
     "output_type": "stream",
     "text": [
      "Reversed Number: 9654\n"
     ]
    }
   ],
   "source": [
    "#21> Write a program in Python to print Reverse of a Number?\n",
    "SOURCE CODE:-\n",
    "num =int(input(\"enter the number to print:\"))\n",
    "reversed_num = 0\n",
    "\n",
    "while num != 0:\n",
    "    digit = num % 10\n",
    "    reversed_num = reversed_num * 10 + digit\n",
    "    num //= 10\n",
    "\n",
    "print(\"Reversed Number: \" + str(reversed_num))"
   ]
  },
  {
   "cell_type": "code",
   "execution_count": 66,
   "id": "e050c81a-2e4d-4c17-8a81-8b5305a3abd0",
   "metadata": {},
   "outputs": [
    {
     "name": "stdin",
     "output_type": "stream",
     "text": [
      "Enter a positive integer:  8\n"
     ]
    },
    {
     "name": "stdout",
     "output_type": "stream",
     "text": [
      "The factorial of 8 is 40320\n"
     ]
    }
   ],
   "source": [
    "#22> Write a Python program to find Factorial of a given number?\n",
    "def factorial(n):\n",
    "   \n",
    "    if n == 0 or n == 1:\n",
    "        return 1\n",
    "    else:\n",
    "        result = 1\n",
    "        for i in range(2, n + 1):\n",
    "            result *= i\n",
    "        return result\n",
    "\n",
    "try:\n",
    "    num = int(input(\"Enter a positive integer: \"))\n",
    "    if num < 0:\n",
    "        print(\"Factorial is not defined for negative numbers.\")\n",
    "    else:\n",
    "        fact = factorial(num)\n",
    "        print(f\"The factorial of {num} is {fact}\")\n",
    "except ValueError:\n",
    "    print(\"Invalid input. Please enter a valid positive integer.\")\n"
   ]
  },
  {
   "cell_type": "code",
   "execution_count": 37,
   "id": "e415256d-4156-48bd-9ac1-8250d09378e5",
   "metadata": {},
   "outputs": [
    {
     "name": "stdin",
     "output_type": "stream",
     "text": [
      "Enter a number to check if it is a palindrome:  456\n"
     ]
    },
    {
     "name": "stdout",
     "output_type": "stream",
     "text": [
      "456 is not a palindrome.\n"
     ]
    }
   ],
   "source": [
    "#23> Write a Python program to check a number is palindrome or not?\n",
    "\n",
    "SOURCE CODE:-\n",
    "def is_palindrome(number):\n",
    "   \n",
    "    str_number = str(number)\n",
    "    \n",
    "    \n",
    "    return str_number == str_number[::-1]\n",
    "\n",
    "def main():\n",
    "    try:\n",
    "\n",
    "        number = int(input(\"Enter a number to check if it is a palindrome: \"))\n",
    "        \n",
    "        \n",
    "        if is_palindrome(number):\n",
    "            print(f\"{number} is a palindrome.\")\n",
    "        else:\n",
    "            print(f\"{number} is not a palindrome.\")\n",
    "    \n",
    "    except ValueError:\n",
    "        print(\"Invalid input. Please enter an integer.\")\n",
    "\n",
    "if __name__ == \"__main__\":\n",
    "    main()"
   ]
  },
  {
   "cell_type": "code",
   "execution_count": 38,
   "id": "500289c5-ed0f-47c8-b72d-c3d3b9bbb9f7",
   "metadata": {},
   "outputs": [
    {
     "name": "stdin",
     "output_type": "stream",
     "text": [
      "Enter a number to check if it is prime:  56\n"
     ]
    },
    {
     "name": "stdout",
     "output_type": "stream",
     "text": [
      "56 is not a prime number.\n"
     ]
    }
   ],
   "source": [
    "# 24> Write a Python program to check a number is prime or not?\n",
    "SOURCE CODE:-\n",
    "def is_prime(number):\n",
    "   \n",
    "    if number <= 1:\n",
    "        return False\n",
    "    \n",
    "    \n",
    "    if number <= 3:\n",
    "        return True\n",
    "    \n",
    "    \n",
    "    if number % 2 == 0 or number % 3 == 0:\n",
    "        return False\n",
    "    \n",
    "   \n",
    "    i = 5\n",
    "    while i * i <= number:\n",
    "        if number % i == 0 or number % (i + 2) == 0:\n",
    "            return False\n",
    "        i += 6\n",
    "    \n",
    "    return True\n",
    "\n",
    "def main():\n",
    "    try:\n",
    "        \n",
    "        number = int(input(\"Enter a number to check if it is prime: \"))\n",
    "        \n",
    "        if number < 0:\n",
    "            print(\"Please enter a non-negative integer.\")\n",
    "            return\n",
    "        \n",
    "       \n",
    "        if is_prime(number):\n",
    "            print(f\"{number} is a prime number.\")\n",
    "        else:\n",
    "            print(f\"{number} is not a prime number.\")\n",
    "    \n",
    "    except ValueError:\n",
    "        print(\"Invalid input. Please enter an integer.\")\n",
    "\n",
    "if __name__ == \"__main__\":\n",
    "    main()\n"
   ]
  },
  {
   "cell_type": "code",
   "execution_count": 39,
   "id": "1b3e8c87-8d45-4f95-be89-be8e7e0b4560",
   "metadata": {},
   "outputs": [
    {
     "name": "stdin",
     "output_type": "stream",
     "text": [
      "Enter a number:  121\n"
     ]
    },
    {
     "name": "stdout",
     "output_type": "stream",
     "text": [
      "121 is not an Armstrong number\n"
     ]
    }
   ],
   "source": [
    "#25> Write a Python program to check a number is Armstrong or not ?\n",
    "\n",
    "SOURCE CODE:-\n",
    "\n",
    "num = int(input(\"Enter a number: \"))\n",
    "\n",
    "\n",
    "sum = 0\n",
    "\n",
    "\n",
    "temp = num\n",
    "while temp > 0:\n",
    "   digit = temp % 10\n",
    "   sum += digit ** 3\n",
    "   temp //= 10\n",
    "\n",
    "\n",
    "if num == sum:\n",
    "   print(num,\"is an Armstrong number\")\n",
    "else:\n",
    "   print(num,\"is not an Armstrong number\")\n"
   ]
  },
  {
   "cell_type": "code",
   "execution_count": 40,
   "id": "6e1c45d2-2225-4c67-8563-dd3fc397031b",
   "metadata": {},
   "outputs": [
    {
     "name": "stdin",
     "output_type": "stream",
     "text": [
      "Enter the number of terms for the Fibonacci series:  9\n"
     ]
    },
    {
     "name": "stdout",
     "output_type": "stream",
     "text": [
      "Fibonacci series:\n",
      "[0, 1, 1, 2, 3, 5, 8, 13, 21]\n"
     ]
    }
   ],
   "source": [
    "#26>\tWrite a Python program to print Fibonacci series of n term?\n",
    "SOURCE CODE:-\n",
    "def fibonacci_series(n):\n",
    "    a, b = 0, 1\n",
    "    series = []\n",
    "    for _ in range(n):\n",
    "        series.append(a)\n",
    "        a, b = b, a + b  # Update the values of a and b for the next term\n",
    "\n",
    "    return series\n",
    "\n",
    "def main():\n",
    "    try:\n",
    "        # Input number of terms\n",
    "        n = int(input(\"Enter the number of terms for the Fibonacci series: \"))\n",
    "        \n",
    "        if n <= 0:\n",
    "            print(\"Please enter a positive integer greater than zero.\")\n",
    "            return\n",
    "        series = fibonacci_series(n)\n",
    "        print(\"Fibonacci series:\")\n",
    "        print(series)\n",
    "    \n",
    "    except ValueError:\n",
    "        print(\"Invalid input. Please enter a positive integer.\")\n",
    "\n",
    "if __name__ == \"__main__\":\n",
    "    main()"
   ]
  },
  {
   "cell_type": "code",
   "execution_count": 41,
   "id": "d227ee38-3887-4322-958b-a4869a9bf165",
   "metadata": {},
   "outputs": [
    {
     "name": "stdin",
     "output_type": "stream",
     "text": [
      "Enter number: 25\n"
     ]
    },
    {
     "name": "stdout",
     "output_type": "stream",
     "text": [
      "25*1:25\n",
      "25*2:50\n",
      "25*3:75\n",
      "25*4:100\n",
      "25*5:125\n",
      "25*6:150\n",
      "25*7:175\n",
      "25*8:200\n",
      "25*9:225\n",
      "25*10:250\n"
     ]
    }
   ],
   "source": [
    "#27> Write a Python program to implement multiplication table?\n",
    "SOURCE CODE:-\n",
    "n=int(input(\"Enter number:\"))\n",
    "for i in range(1,11):\n",
    "    print(f\"{n}*{i}:{n*i}\")"
   ]
  },
  {
   "cell_type": "code",
   "execution_count": 44,
   "id": "9ca57e0b-2644-4510-b5d2-b20fa6e00cc1",
   "metadata": {},
   "outputs": [
    {
     "name": "stdin",
     "output_type": "stream",
     "text": [
      "Enter number of elements :  8\n",
      " 9\n",
      " 3\n",
      " 2\n",
      " 1\n",
      " 7\n",
      " 8\n",
      " 6\n",
      " 7\n"
     ]
    },
    {
     "name": "stdout",
     "output_type": "stream",
     "text": [
      "[9, 3, 2, 1, 7, 8, 6, 7]\n"
     ]
    }
   ],
   "source": [
    "#28> Write a Python program to take a input from user in a list and print it?\n",
    "SOURCE CODE:-\n",
    "lst = []\n",
    " \n",
    "n = int(input(\"Enter number of elements : \"))\n",
    " \n",
    "\n",
    "for i in range(0, n):\n",
    "    ele = int(input())\n",
    "  \n",
    "    lst.append(ele)  \n",
    " \n",
    "print(lst)"
   ]
  },
  {
   "cell_type": "code",
   "execution_count": 73,
   "id": "d254188d-0f6f-4a24-91b2-76ab340f52a7",
   "metadata": {},
   "outputs": [
    {
     "name": "stdout",
     "output_type": "stream",
     "text": [
      "average =  5.75\n"
     ]
    }
   ],
   "source": [
    "29>\tWrite a Python program to find the average of n numbers using list?\n",
    "SOURCE CODE:-\n",
    "\n",
    "L = [4, 5, 1, 2, 9, 7, 10, 8]\n",
    "\n",
    "\n",
    "# variable to store the sum of\n",
    "# the list\n",
    "count = 0\n",
    "\n",
    "# Finding the sum\n",
    "for i in L:\n",
    "\tcount += i\n",
    "\n",
    "# divide the total elements by\n",
    "# number of elements\n",
    "avg = count/len(L)\n",
    "print(\"average = \", avg)\n"
   ]
  },
  {
   "cell_type": "code",
   "execution_count": 45,
   "id": "0bbe5225-56ce-48c4-8b17-bf9046537538",
   "metadata": {},
   "outputs": [
    {
     "name": "stdout",
     "output_type": "stream",
     "text": [
      "10\n"
     ]
    }
   ],
   "source": [
    "#30> Write a Python program to find the largest element in the list?\n",
    "SOURCE CODE:-\n",
    "L = [4, 5, 1, 2, 9, 7, 10, 8]\n",
    "print(max(L))"
   ]
  },
  {
   "cell_type": "code",
   "execution_count": 46,
   "id": "5ae033cd-8737-4466-b448-69dad4e60f79",
   "metadata": {},
   "outputs": [
    {
     "name": "stdout",
     "output_type": "stream",
     "text": [
      "Element found at index:  3\n"
     ]
    }
   ],
   "source": [
    "#31> Write a Python program to perform Linear search?\n",
    "\n",
    "SOURCE CODE:-\n",
    "def linearSearch(array, n, x):\n",
    "    for i in range(0, n):\n",
    "        if (array[i] == x):\n",
    "            return i\n",
    "    return -1\n",
    "array = [2, 4, 0, 1, 9]\n",
    "x = 1\n",
    "n = len(array)\n",
    "result = linearSearch(array, n, x)\n",
    "if(result == -1):\n",
    "    print(\"Element not found\")\n",
    "else:\n",
    "    print(\"Element found at index: \", result)"
   ]
  },
  {
   "cell_type": "code",
   "execution_count": 47,
   "id": "eea3b0d7-16f1-4320-b8de-f5835acf56c5",
   "metadata": {},
   "outputs": [
    {
     "name": "stdin",
     "output_type": "stream",
     "text": [
      " Hello world\n",
      " practice makes perfect\n",
      " \n"
     ]
    },
    {
     "name": "stdout",
     "output_type": "stream",
     "text": [
      "HELLO WORLD\n",
      "PRACTICE MAKES PERFECT\n"
     ]
    }
   ],
   "source": [
    "#32>\tWrite a program that accepts sequence of lines as input\n",
    "and prints the lines after making all characters in the sentence capitalized?\n",
    "Suppose the following input is supplied to the program:\n",
    "Hello world\n",
    "Practice makes perfect\n",
    "Then, the output should be:\n",
    "HELLO WORLD\n",
    "PRACTICE MAKES PERFECT\n",
    "\n",
    "SOURCE CODE:-\n",
    "lines = []\n",
    "while True:\n",
    "    l = input()\n",
    "    if l:\n",
    "        lines.append(l.upper())\n",
    "    else:\n",
    "        break;\n",
    "for l in lines:\n",
    "    print(l) \n",
    "\t"
   ]
  },
  {
   "cell_type": "code",
   "execution_count": 48,
   "id": "38ee2702-c8bd-4b49-81fa-6d8c820e561c",
   "metadata": {},
   "outputs": [
    {
     "name": "stdin",
     "output_type": "stream",
     "text": [
      "Type in numbers seperated only by a comma : 34,67,55,33,12,98\n"
     ]
    },
    {
     "name": "stdout",
     "output_type": "stream",
     "text": [
      "('34', '67', '55', '33', '12', '98')\n",
      "['34', '67', '55', '33', '12', '98']\n"
     ]
    }
   ],
   "source": [
    "#33>\tWrite a program which accepts a sequence of comma‐separated numbers from console \n",
    "and generate a list and a tuple which contains every number?\n",
    "Suppose the following input is supplied to the program:\n",
    "34,67,55,33,12,98\n",
    "Then, the output should be:\n",
    "['34', '67', '55', '33', '12', '98']\n",
    "('34', '67', '55', '33', '12', '98')\n",
    "\n",
    "SOURCE CODE:-\n",
    "numbers = input(\"Type in numbers seperated only by a comma :\")\n",
    "numbers_split = numbers.split(',')\n",
    "\n",
    "number_tuple = tuple(numbers_split)\n",
    "\n",
    "print(number_tuple)\n",
    "print(numbers_split)"
   ]
  },
  {
   "cell_type": "code",
   "execution_count": 53,
   "id": "1fb7accb-fbab-4d5b-9676-196b009a7ead",
   "metadata": {},
   "outputs": [
    {
     "name": "stdout",
     "output_type": "stream",
     "text": [
      "Enter transaction log (format: D/W amount). Type 'done' to finish:\n"
     ]
    },
    {
     "name": "stdin",
     "output_type": "stream",
     "text": [
      " D 300\n",
      " D 300\n",
      " W 200\n",
      " D 100\n",
      " done\n"
     ]
    },
    {
     "name": "stdout",
     "output_type": "stream",
     "text": [
      "Net Amount: 500.00\n"
     ]
    }
   ],
   "source": [
    "\n",
    "#34> Write a program that computes the net amount of a bank account based a transaction log from console input?\n",
    "The transaction log format is shown as following:\n",
    "D 100\n",
    "W 200\n",
    "¡\n",
    "D means deposit while W means withdrawal.\n",
    "Suppose the following input is supplied to the program:\n",
    "D 300\n",
    "D 300\n",
    "W 200\n",
    "D 100\n",
    "Then, the output should be:\n",
    "500\n",
    "SOURCE CODE:-\n",
    "def compute_net_amount():\n",
    "    net_amount = 0.0\n",
    "\n",
    "    print(\"Enter transaction log (format: D/W amount). Type 'done' to finish:\")\n",
    "\n",
    "    while True:\n",
    "       \n",
    "        transaction = input().strip()\n",
    "\n",
    "        \n",
    "        if transaction.lower() == 'done':\n",
    "            break\n",
    "\n",
    "        \n",
    "        try:\n",
    "            \n",
    "            parts = transaction.split()\n",
    "            if len(parts) != 2:\n",
    "                print(\"Invalid input format. Use 'D/W amount'.\")\n",
    "                continue\n",
    "            \n",
    "            transaction_type, amount_str = parts\n",
    "            amount = float(amount_str)\n",
    "            \n",
    "            if transaction_type.upper() == 'D':\n",
    "                net_amount += amount\n",
    "            elif transaction_type.upper() == 'W':\n",
    "                net_amount -= amount\n",
    "            else:\n",
    "                print(\"Invalid transaction type. Use 'D' for deposit or 'W' for withdrawal.\")\n",
    "        except ValueError:\n",
    "            print(\"Invalid amount. Ensure the amount is a number.\")\n",
    "\n",
    "    \n",
    "    print(f\"Net Amount: {net_amount:.2f}\")\n",
    "\n",
    "compute_net_amount()\n"
   ]
  },
  {
   "cell_type": "code",
   "execution_count": null,
   "id": "63e4ec49-0209-4987-b8bc-5578928c50c8",
   "metadata": {},
   "outputs": [],
   "source": []
  }
 ],
 "metadata": {
  "kernelspec": {
   "display_name": "Python 3 (ipykernel)",
   "language": "python",
   "name": "python3"
  },
  "language_info": {
   "codemirror_mode": {
    "name": "ipython",
    "version": 3
   },
   "file_extension": ".py",
   "mimetype": "text/x-python",
   "name": "python",
   "nbconvert_exporter": "python",
   "pygments_lexer": "ipython3",
   "version": "3.12.4"
  }
 },
 "nbformat": 4,
 "nbformat_minor": 5
}
